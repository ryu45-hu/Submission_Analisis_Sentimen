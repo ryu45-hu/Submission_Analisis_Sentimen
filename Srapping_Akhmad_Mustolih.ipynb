{
  "nbformat": 4,
  "nbformat_minor": 0,
  "metadata": {
    "colab": {
      "provenance": [],
      "authorship_tag": "ABX9TyNfD3qHxCO+93vXEbzSAZTP",
      "include_colab_link": true
    },
    "kernelspec": {
      "name": "python3",
      "display_name": "Python 3"
    },
    "language_info": {
      "name": "python"
    }
  },
  "cells": [
    {
      "cell_type": "markdown",
      "metadata": {
        "id": "view-in-github",
        "colab_type": "text"
      },
      "source": [
        "<a href=\"https://colab.research.google.com/github/ryu45-hu/Submission_Analisis_Sentimen/blob/main/Srapping.ipynb\" target=\"_parent\"><img src=\"https://colab.research.google.com/assets/colab-badge.svg\" alt=\"Open In Colab\"/></a>"
      ]
    },
    {
      "cell_type": "code",
      "execution_count": 1,
      "metadata": {
        "colab": {
          "base_uri": "https://localhost:8080/"
        },
        "id": "_B5ySIrhB0Kq",
        "outputId": "d805a815-b867-43e4-f6af-2af6ad7d9056"
      },
      "outputs": [
        {
          "output_type": "stream",
          "name": "stdout",
          "text": [
            "Collecting google-play-scraper\n",
            "  Downloading google_play_scraper-1.2.7-py3-none-any.whl.metadata (50 kB)\n",
            "\u001b[?25l     \u001b[90m━━━━━━━━━━━━━━━━━━━━━━━━━━━━━━━━━━━━━━━━\u001b[0m \u001b[32m0.0/50.2 kB\u001b[0m \u001b[31m?\u001b[0m eta \u001b[36m-:--:--\u001b[0m\r\u001b[2K     \u001b[90m━━━━━━━━━━━━━━━━━━━━━━━━━━━━━━━━━━━━━━━━\u001b[0m \u001b[32m50.2/50.2 kB\u001b[0m \u001b[31m1.5 MB/s\u001b[0m eta \u001b[36m0:00:00\u001b[0m\n",
            "\u001b[?25hDownloading google_play_scraper-1.2.7-py3-none-any.whl (28 kB)\n",
            "Installing collected packages: google-play-scraper\n",
            "Successfully installed google-play-scraper-1.2.7\n"
          ]
        }
      ],
      "source": [
        "!pip freeze > requirements.txt\n",
        "!pip install google-play-scraper\n",
        "import pandas as pd\n",
        "from google_play_scraper import reviews"
      ]
    },
    {
      "cell_type": "code",
      "source": [
        "result, _ = reviews(\n",
        "    'com.dafturn.mypertamina',\n",
        "    count=20000,\n",
        "    lang='id',\n",
        "    country='id'\n",
        ")\n",
        "\n",
        "\n",
        "df = pd.DataFrame(result)\n",
        "df.to_csv(\"MyPertamina.csv\", index=False)"
      ],
      "metadata": {
        "id": "-Q-PpJNSB7Ba"
      },
      "execution_count": 2,
      "outputs": []
    }
  ]
}
